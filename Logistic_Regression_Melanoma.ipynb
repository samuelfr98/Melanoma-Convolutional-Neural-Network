{
  "nbformat": 4,
  "nbformat_minor": 5,
  "metadata": {
    "kernelspec": {
      "display_name": "Python 3",
      "language": "python",
      "name": "python3"
    },
    "language_info": {
      "codemirror_mode": {
        "name": "ipython",
        "version": 3
      },
      "file_extension": ".py",
      "mimetype": "text/x-python",
      "name": "python",
      "nbconvert_exporter": "python",
      "pygments_lexer": "ipython3",
      "version": "3.9.2"
    },
    "colab": {
      "name": "Logistic_Regression_Melanoma.ipynb",
      "provenance": [],
      "collapsed_sections": []
    },
    "accelerator": "TPU"
  },
  "cells": [
    {
      "cell_type": "code",
      "metadata": {
        "colab": {
          "base_uri": "https://localhost:8080/"
        },
        "id": "metric-vancouver",
        "outputId": "c99f9a8d-1b3f-4d2d-ceb6-8d4e6d9ea711"
      },
      "source": [
        "#Create logistic regression model to compare to CNN\n",
        "\n",
        "#Used the following notebook as resource: https://www.kaggle.com/gulsahdemiryurek/image-classification-with-logistic-regression\n",
        "\n",
        "#get data from google drive:\n",
        "from google.colab import drive\n",
        "drive.mount('/gdrive')\n",
        "%cd /gdrive\n"
      ],
      "id": "metric-vancouver",
      "execution_count": null,
      "outputs": [
        {
          "output_type": "stream",
          "text": [
            "Drive already mounted at /gdrive; to attempt to forcibly remount, call drive.mount(\"/gdrive\", force_remount=True).\n",
            "/gdrive\n"
          ],
          "name": "stdout"
        }
      ]
    },
    {
      "cell_type": "code",
      "metadata": {
        "id": "-AlpKGM58Sfg"
      },
      "source": [
        "#imports below:\n",
        "import os\n",
        "import numpy as np # linear algebra\n",
        "import pandas as pd # data processing, CSV file I/O (e.g. pd.read_csv)\n",
        "import matplotlib.pyplot as plt\n",
        "import cv2 \n",
        "import os \n",
        "from random import shuffle \n",
        "from tqdm import tqdm \n",
        "from PIL import Image\n",
        "import warnings\n",
        "warnings.filterwarnings('ignore')\n",
        "\n",
        "from sklearn.linear_model import LogisticRegression\n",
        "\n",
        "from sklearn.model_selection import train_test_split, GridSearchCV\n",
        "\n",
        "from sklearn.metrics import confusion_matrix, accuracy_score, recall_score, confusion_matrix, precision_score, ConfusionMatrixDisplay\n",
        "\n",
        "import matplotlib.image as img"
      ],
      "id": "-AlpKGM58Sfg",
      "execution_count": null,
      "outputs": []
    },
    {
      "cell_type": "code",
      "metadata": {
        "id": "6plE5wsP7t9z"
      },
      "source": [
        "train_data_dir = '/gdrive/My Drive/COMP 562 Project/Data/PyTorch Playground Folder/Training100x100v2' #change to Training100x100v2\n",
        "testing_data_dir = '/gdrive/My Drive/COMP 562 Project/Data/PyTorch Playground Folder/Testing100x100v2'\n",
        "#nb_train_samples = 2526\n",
        "#nb_validation_samples = 510\n",
        "\n",
        "\n",
        "training_data = os.listdir(train_data_dir)\n",
        "testing_data = os.listdir(testing_data_dir)"
      ],
      "id": "6plE5wsP7t9z",
      "execution_count": null,
      "outputs": []
    },
    {
      "cell_type": "code",
      "metadata": {
        "id": "Nv4fjg5UQpHg"
      },
      "source": [
        "def train_data():\n",
        "    #we want to read the csv and label each image as benign or malignant\n",
        "\n",
        "    train_data_benign = [] \n",
        "    train_data_malignant=[]\n",
        "\n",
        "    training_table = pd.read_csv(r'/gdrive/My Drive/COMP 562 Project/Data/PyTorch Playground Folder/train samplev2.csv') # train samplev2.csv\n",
        "\n",
        "    for index, row in training_table.iterrows():\n",
        "      if(row['target'] == 0):\n",
        "        #append image to train_data_benign\n",
        "        img_path = os.path.join(train_data_dir, row['img_name'])\n",
        "        image = img.imread(img_path)\n",
        "        train_data_benign.append(image)\n",
        "      else:\n",
        "        #append to train_data_malignant\n",
        "        img_path = os.path.join(train_data_dir, row['img_name'])\n",
        "        image = img.imread(img_path)\n",
        "        train_data_malignant.append(image)\n",
        "\n",
        "    print(\"The number of images in train_data_benign: \"+str(len(train_data_benign)))\n",
        "    print(\"The number of images in train_data_malignant: \"+str(len(train_data_malignant)))\n",
        "    train_data= np.concatenate((np.asarray(train_data_benign),np.asarray(train_data_malignant)),axis=0)\n",
        "    return train_data "
      ],
      "id": "Nv4fjg5UQpHg",
      "execution_count": null,
      "outputs": []
    },
    {
      "cell_type": "code",
      "metadata": {
        "id": "78GJvkCxQqRh"
      },
      "source": [
        "def test_data():\n",
        "\n",
        "    test_data_benign = [] \n",
        "    test_data_malignant=[]\n",
        "    testing_table = pd.read_csv(r'/gdrive/My Drive/COMP 562 Project/Data/PyTorch Playground Folder/test samplev2.csv') #test samplev2.csv\n",
        "\n",
        "    for index, row in testing_table.iterrows():\n",
        "      if(row['target'] == 0):\n",
        "        #append image to test_data_benign\n",
        "        img_path = os.path.join(testing_data_dir, row['img_name'])\n",
        "        image = img.imread(img_path)\n",
        "        test_data_benign.append(image)\n",
        "      else:\n",
        "        #append to test_data_malignant\n",
        "        img_path = os.path.join(testing_data_dir, row['img_name'])\n",
        "        image = img.imread(img_path)\n",
        "        test_data_malignant.append(image)\n",
        "    \n",
        "    print(\"The number of images in test_data_benign: \"+str(len(test_data_benign)))\n",
        "    print(\"The number of images in test_data_malignant: \"+str(len(test_data_malignant)))\n",
        "    test_data= np.concatenate((np.asarray(test_data_benign),np.asarray(test_data_malignant)),axis=0) \n",
        "    return test_data"
      ],
      "id": "78GJvkCxQqRh",
      "execution_count": null,
      "outputs": []
    },
    {
      "cell_type": "code",
      "metadata": {
        "colab": {
          "base_uri": "https://localhost:8080/"
        },
        "id": "XXpIq3thRaAQ",
        "outputId": "5900ba74-87ca-434f-93fd-31d28387129a"
      },
      "source": [
        "#train_data = train_data() \n",
        "#test_data = test_data()\n",
        "x_train = train_data()\n",
        "x_train = (x_train-np.min(x_train))/(np.max(x_train)-np.min(x_train))\n",
        "x_test = test_data()\n",
        "x_test = (x_test-np.min(x_test))/(np.max(x_test)-np.min(x_test))"
      ],
      "id": "XXpIq3thRaAQ",
      "execution_count": null,
      "outputs": [
        {
          "output_type": "stream",
          "text": [
            "The number of images in train_data_benign: 6006\n",
            "The number of images in train_data_malignant: 1572\n",
            "The number of images in test_data_benign: 1350\n",
            "The number of images in test_data_malignant: 180\n"
          ],
          "name": "stdout"
        }
      ]
    },
    {
      "cell_type": "code",
      "metadata": {
        "id": "yd-eWHb6R2fX"
      },
      "source": [
        "z1 = np.zeros(6006) # plug in the correct number of training samples as parameter\n",
        "o1 = np.ones(1572) # plug in the correct number of training samples as parameter\n",
        "y_train = np.concatenate((o1, z1), axis=0)\n",
        "z = np.zeros(1350) # plug in the correct number of testing samples as parameter\n",
        "o = np.ones(180) # plug in the correct number of testing samples as parameter\n",
        "y_test = np.concatenate((o, z), axis=0)\n"
      ],
      "id": "yd-eWHb6R2fX",
      "execution_count": null,
      "outputs": []
    },
    {
      "cell_type": "code",
      "metadata": {
        "colab": {
          "base_uri": "https://localhost:8080/"
        },
        "id": "0U5Ds3KEVYuF",
        "outputId": "d8df5390-27ce-449f-8495-af17d2d4206a"
      },
      "source": [
        "number_of_train = x_train.shape[0]\n",
        "number_of_test = x_test.shape[0]\n",
        "\n",
        "x_train_flatten = x_train.reshape(number_of_train,-1) # x_train.shape[1]*x_train.shape[2]\n",
        "x_test_flatten = x_test .reshape(number_of_test,-1) # x_test.shape[1]*x_test.shape[2]\n",
        "print(\"X train flatten\",x_train_flatten.shape)\n",
        "print(\"X test flatten\",x_test_flatten.shape)\n",
        "\n",
        "y_train_flatten = y_train.reshape(y_train.shape[0], -1)\n",
        "y_test_flatten = y_test.reshape(y_test.shape[0], -1)\n",
        "print(\"Y train flatten\",y_train_flatten.shape)\n",
        "print(\"Y test flatten\",y_test_flatten.shape)"
      ],
      "id": "0U5Ds3KEVYuF",
      "execution_count": null,
      "outputs": [
        {
          "output_type": "stream",
          "text": [
            "X train flatten (7578, 30000)\n",
            "X test flatten (1530, 30000)\n",
            "Y train flatten (7578, 1)\n",
            "Y test flatten (1530, 1)\n"
          ],
          "name": "stdout"
        }
      ]
    },
    {
      "cell_type": "code",
      "metadata": {
        "colab": {
          "base_uri": "https://localhost:8080/"
        },
        "id": "xJPe3RB2XrJN",
        "outputId": "29068383-eac6-4e39-9b44-35c921d32e29"
      },
      "source": [
        "x_train = x_train_flatten.T\n",
        "x_test = x_test_flatten.T\n",
        "y_test = y_test_flatten.T\n",
        "y_train = y_train_flatten.T\n",
        "print(\"x train: \",x_train.shape)\n",
        "print(\"x test: \",x_test.shape)\n",
        "print(\"y train: \",y_train.shape)\n",
        "print(\"y test: \",y_test.shape)"
      ],
      "id": "xJPe3RB2XrJN",
      "execution_count": null,
      "outputs": [
        {
          "output_type": "stream",
          "text": [
            "x train:  (30000, 7578)\n",
            "x test:  (30000, 1530)\n",
            "y train:  (1, 7578)\n",
            "y test:  (1, 1530)\n"
          ],
          "name": "stdout"
        }
      ]
    },
    {
      "cell_type": "code",
      "metadata": {
        "id": "s4cOBofWXrPV"
      },
      "source": [
        "def initialize_weights_and_bias(dimension):\n",
        "    w = np.full((dimension,1),0.01)\n",
        "    b = 0.0\n",
        "    return w, b\n",
        "\n",
        "def sigmoid(z):\n",
        "    y_head = 1/(1+np.exp(-z))\n",
        "    return y_head\n",
        "\n",
        "def forward_backward_propagation(w,b,x_train,y_train):\n",
        "    # forward propagation\n",
        "    z = np.dot(w.T,x_train) + b\n",
        "    y_head = sigmoid(z)\n",
        "    loss = -y_train*np.log(y_head)-(1-y_train)*np.log(1-y_head)\n",
        "    cost = (np.sum(loss))/x_train.shape[1]\n",
        "    # backward propagation\n",
        "    derivative_weight = (np.dot(x_train,((y_head-y_train).T)))/x_train.shape[1]\n",
        "    derivative_bias = np.sum(y_head-y_train)/x_train.shape[1]\n",
        "    gradients = {\"derivative_weight\": derivative_weight,\"derivative_bias\": derivative_bias}\n",
        "    return cost,gradients\n",
        "#maybe try lowering the learning rate? The learning steps might be too big\n",
        "def update(w, b, x_train, y_train, learning_rate,number_of_iterarion):\n",
        "    cost_list = []\n",
        "    cost_list2 = []\n",
        "    index = []\n",
        "    \n",
        "    for i in range(number_of_iterarion):\n",
        "        \n",
        "        cost,gradients = forward_backward_propagation(w,b,x_train,y_train)\n",
        "        cost_list.append(cost)\n",
        "        \n",
        "        w = w - learning_rate * gradients[\"derivative_weight\"]\n",
        "        b = b - learning_rate * gradients[\"derivative_bias\"]\n",
        "        if i % 100 == 0:\n",
        "            cost_list2.append(cost)\n",
        "            index.append(i)\n",
        "            print (\"Cost after iteration %i: %f\" %(i, cost))\n",
        "    \n",
        "    parameters = {\"weight\": w,\"bias\": b}\n",
        "    plt.plot(index,cost_list2)\n",
        "    plt.xticks(index,rotation='vertical')\n",
        "    plt.xlabel(\"Number of Iterarion\")\n",
        "    plt.ylabel(\"Cost\")\n",
        "    plt.show()\n",
        "    return parameters, gradients, cost_list\n",
        "\n",
        "def predict(w,b,x_test):\n",
        "    \n",
        "    z = sigmoid(np.dot(w.T,x_test)+b)\n",
        "    Y_prediction = np.zeros((1,x_test.shape[1]))\n",
        "\n",
        "    for i in range(z.shape[1]):\n",
        "        if z[0,i]<= 0.5:\n",
        "            Y_prediction[0,i] = 0\n",
        "        else:\n",
        "            Y_prediction[0,i] = 1\n",
        "\n",
        "    return Y_prediction\n",
        "\n",
        "def logistic_regression(x_train, y_train, x_test, y_test, learning_rate ,  num_iterations):\n",
        "\n",
        "    dimension =  x_train.shape[0]\n",
        "    w,b = initialize_weights_and_bias(dimension)\n",
        "\n",
        "    parameters, gradients, cost_list = update(w, b, x_train, y_train, learning_rate,num_iterations)\n",
        "    \n",
        "    y_prediction_test = predict(parameters[\"weight\"],parameters[\"bias\"],x_test)\n",
        "    y_prediction_train = predict(parameters[\"weight\"],parameters[\"bias\"],x_train)\n",
        "    \n",
        "    print(\"Test Accuracy: {} %\".format(round(100 - np.mean(np.abs(y_prediction_test - y_test)) * 100,2)))\n",
        "    print(\"Train Accuracy: {} %\".format(round(100 - np.mean(np.abs(y_prediction_train - y_train)) * 100,2)))\n",
        "\n",
        "    return y_prediction_test"
      ],
      "id": "s4cOBofWXrPV",
      "execution_count": null,
      "outputs": []
    },
    {
      "cell_type": "code",
      "metadata": {
        "colab": {
          "base_uri": "https://localhost:8080/",
          "height": 584
        },
        "id": "grMJefbDXrUa",
        "outputId": "b8d69d07-7799-485a-d938-1c99e08ce407"
      },
      "source": [
        "y_pred = logistic_regression(x_train, y_train, x_test, y_test,learning_rate = 0.0001, num_iterations = 1500) #CHANGE the learning_rate to 0.001 and 0.0001 and see what happens"
      ],
      "id": "grMJefbDXrUa",
      "execution_count": null,
      "outputs": [
        {
          "output_type": "stream",
          "text": [
            "Cost after iteration 0: nan\n",
            "Cost after iteration 100: nan\n",
            "Cost after iteration 200: 0.756488\n",
            "Cost after iteration 300: 0.722010\n",
            "Cost after iteration 400: 0.698590\n",
            "Cost after iteration 500: 0.676768\n",
            "Cost after iteration 600: 0.656598\n",
            "Cost after iteration 700: 0.638115\n",
            "Cost after iteration 800: 0.621324\n",
            "Cost after iteration 900: 0.606206\n",
            "Cost after iteration 1000: 0.592711\n",
            "Cost after iteration 1100: 0.580762\n",
            "Cost after iteration 1200: 0.570261\n",
            "Cost after iteration 1300: 0.561092\n",
            "Cost after iteration 1400: 0.553129\n"
          ],
          "name": "stdout"
        },
        {
          "output_type": "display_data",
          "data": {
            "image/png": "[encoded data removed]",
            "text/plain": [
              "<Figure size 432x288 with 1 Axes>"
            ]
          },
          "metadata": {
            "tags": [],
            "needs_background": "light"
          }
        },
        {
          "output_type": "stream",
          "text": [
            "Test Accuracy: 86.99 %\n",
            "Train Accuracy: 77.57 %\n"
          ],
          "name": "stdout"
        }
      ]
    },
    {
      "cell_type": "code",
      "metadata": {
        "id": "zjvPtnGyxrFW",
        "colab": {
          "base_uri": "https://localhost:8080/",
          "height": 296
        },
        "outputId": "e0810111-0921-490e-f941-233ef1acdb9e"
      },
      "source": [
        "y_test_list = []\n",
        "y_pred_list = []\n",
        "for tumor_list in y_test:\n",
        "  for tumor in tumor_list:\n",
        "    if tumor == 1.0:\n",
        "      y_test_list.append(1.0)\n",
        "    else:\n",
        "      y_test_list.append(0.0)\n",
        "for tumor_list in y_pred:\n",
        "  for tumor in tumor_list:\n",
        "    if tumor == 1.0:\n",
        "      y_pred_list.append(1.0)\n",
        "    else:\n",
        "      y_pred_list.append(0.0)\n",
        "#confusion_matrix(y_test_list, y_pred_list)\n",
        "\n",
        "#look at precision and recall\n",
        "ppv = precision_score(y_test_list, y_pred_list, average=None)\n",
        "recall = recall_score(y_test_list, y_pred_list, average=None)\n",
        "print(\"PPV | \",ppv,\" Recall | \",recall)\n",
        "\n",
        "\n",
        "#nice confusion matrix\n",
        "\n",
        "class_names = np.array(['Benign', 'Malignant'])\n",
        "disp = ConfusionMatrixDisplay(confusion_matrix=confusion_matrix(y_test_list, y_pred_list),\n",
        "                              display_labels=class_names)\n",
        "# NOTE: Fill all variables here with default values of the plot_confusion_matrix\n",
        "disp = disp.plot(include_values=True, cmap='viridis', ax=None, xticks_rotation='horizontal') #Each of these are the default values\n",
        "\n",
        "plt.show() #Can't get rid of the annoying color bar"
      ],
      "id": "zjvPtnGyxrFW",
      "execution_count": null,
      "outputs": [
        {
          "output_type": "stream",
          "text": [
            "PPV |  [0.88239203 0.12      ]  Recall |  [0.9837037  0.01666667]\n"
          ],
          "name": "stdout"
        },
        {
          "output_type": "display_data",
          "data": {
            "image/png": "[encoded data removed]",
            "text/plain": [
              "<Figure size 432x288 with 2 Axes>"
            ]
          },
          "metadata": {
            "tags": [],
            "needs_background": "light"
          }
        }
      ]
    },
    {
      "cell_type": "code",
      "metadata": {
        "id": "uv1UDL_GXzkM",
        "colab": {
          "base_uri": "https://localhost:8080/"
        },
        "outputId": "227e3356-6659-45fa-e356-7052e62401fd"
      },
      "source": [
        "log_reg= LogisticRegression(C=1, penalty='l2', solver='lbfgs')\n",
        "log_reg.fit(x_train.T,y_train.T)"
      ],
      "id": "uv1UDL_GXzkM",
      "execution_count": null,
      "outputs": [
        {
          "output_type": "execute_result",
          "data": {
            "text/plain": [
              "LogisticRegression(C=1, class_weight=None, dual=False, fit_intercept=True,\n",
              "                   intercept_scaling=1, l1_ratio=None, max_iter=100,\n",
              "                   multi_class='auto', n_jobs=None, penalty='l2',\n",
              "                   random_state=None, solver='lbfgs', tol=0.0001, verbose=0,\n",
              "                   warm_start=False)"
            ]
          },
          "metadata": {
            "tags": []
          },
          "execution_count": 25
        }
      ]
    },
    {
      "cell_type": "code",
      "metadata": {
        "colab": {
          "base_uri": "https://localhost:8080/"
        },
        "id": "PDB8WmVbBx2c",
        "outputId": "59d062ed-8a0a-4342-dff6-dbe02bc6208b"
      },
      "source": [
        "\n",
        "print(\"test accuracy: {} \".format(accuracy_score(y_test.T, log_reg.predict(x_test.T))))\n",
        "print(\"train accuracy: {} \".format(accuracy_score(y_train.T, log_reg.predict(x_train.T))))\n",
        "cf_matrix = confusion_matrix(y_test_list, log_reg.predict(x_test.T))"
      ],
      "id": "PDB8WmVbBx2c",
      "execution_count": null,
      "outputs": [
        {
          "output_type": "stream",
          "text": [
            "test accuracy: 0.8379084967320262 \n",
            "train accuracy: 0.8120876220638691 \n"
          ],
          "name": "stdout"
        }
      ]
    },
    {
      "cell_type": "code",
      "metadata": {
        "colab": {
          "base_uri": "https://localhost:8080/",
          "height": 296
        },
        "id": "gEpU5_scyBkT",
        "outputId": "b388c968-8d49-46f4-d55d-f380bfc786e2"
      },
      "source": [
        "\n",
        "ppv = precision_score(y_test_list, log_reg.predict(x_test.T), average=None)\n",
        "recall = recall_score(y_test_list, log_reg.predict(x_test.T), average=None)\n",
        "print(\"PPV | \",ppv,\" Recall | \",recall)\n",
        "\n",
        "\n",
        "class_names = np.array(['Benign', 'Malignant'])\n",
        "disp = ConfusionMatrixDisplay(confusion_matrix=cf_matrix,\n",
        "                              display_labels=class_names)\n",
        "# NOTE: Fill all variables here with default values of the plot_confusion_matrix\n",
        "disp = disp.plot(include_values=True, cmap='viridis', ax=None, xticks_rotation='horizontal') #Each of these are the default values\n",
        "\n",
        "plt.show() #Can't get rid of the annoying color bar"
      ],
      "id": "gEpU5_scyBkT",
      "execution_count": null,
      "outputs": [
        {
          "output_type": "stream",
          "text": [
            "PPV |  [0.89189189 0.22580645]  Recall |  [0.92888889 0.15555556]\n"
          ],
          "name": "stdout"
        },
        {
          "output_type": "display_data",
          "data": {
            "image/png": "[encoded data removed]",
            "text/plain": [
              "<Figure size 432x288 with 2 Axes>"
            ]
          },
          "metadata": {
            "tags": [],
            "needs_background": "light"
          }
        }
      ]
    },
    {
      "cell_type": "code",
      "metadata": {
        "id": "_LDoYp3xTUDb"
      },
      "source": [
        "grid={\"C\":np.logspace(-3,3,7),\"penalty\":[\"l1\",\"l2\"]},\n",
        "logistic_regression_2=LogisticRegression(random_state=42)\n",
        "log_reg_cv=GridSearchCV(logistic_regression_2,grid,cv=10)\n",
        "log_reg_cv.fit(x_train.T,y_train.T)\n",
        "\n",
        "\n",
        "print(\"best hyperparameters: \", log_reg_cv.best_params_)\n",
        "print(\"accuracy: \", log_reg_cv.best_score_)"
      ],
      "id": "_LDoYp3xTUDb",
      "execution_count": null,
      "outputs": []
    }
  ]
}